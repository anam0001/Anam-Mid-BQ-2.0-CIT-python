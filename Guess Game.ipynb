{
  "nbformat": 4,
  "nbformat_minor": 0,
  "metadata": {
    "colab": {
      "provenance": [],
      "authorship_tag": "ABX9TyOvZYLGexs2wZqCZrVVB1LJ",
      "include_colab_link": true
    },
    "kernelspec": {
      "name": "python3",
      "display_name": "Python 3"
    },
    "language_info": {
      "name": "python"
    }
  },
  "cells": [
    {
      "cell_type": "markdown",
      "metadata": {
        "id": "view-in-github",
        "colab_type": "text"
      },
      "source": [
        "<a href=\"https://colab.research.google.com/github/anam0001/Anam-Mid-BQ-2.0-CIT-python/blob/main/Guess%20Game.ipynb\" target=\"_parent\"><img src=\"https://colab.research.google.com/assets/colab-badge.svg\" alt=\"Open In Colab\"/></a>"
      ]
    },
    {
      "cell_type": "code",
      "execution_count": null,
      "metadata": {
        "id": "KCBHkRj0A6VP"
      },
      "outputs": [],
      "source": [
        "\n",
        "word=\"Anam\"\n",
        "i=1\n",
        "while i<=5:\n",
        "  guess=input(\"Enter a name to guess: \")\n",
        "  if word==guess:\n",
        "    print(\"Congratulations 🎉🎉🎉\")\n",
        "    print(\"You guess the right name :) \")\n",
        "    break\n",
        "\n",
        "  else:\n",
        "    remain=5-i\n",
        "    print(\"Wrong answer!!! Try again\")\n",
        "    print(f\"You only have {remain} turns.\\n\\n\")\n",
        "\n",
        "    i+=1"
      ]
    }
  ]
}